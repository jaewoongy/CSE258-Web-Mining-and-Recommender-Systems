{
 "cells": [
  {
   "cell_type": "code",
   "execution_count": 45,
   "id": "d545425e",
   "metadata": {},
   "outputs": [],
   "source": [
    "import json\n",
    "from matplotlib import pyplot as plt\n",
    "from collections import defaultdict\n",
    "from sklearn import linear_model\n",
    "import numpy as np\n",
    "import random\n",
    "import gzip\n",
    "import math"
   ]
  },
  {
   "cell_type": "code",
   "execution_count": 9,
   "id": "d577aff3",
   "metadata": {},
   "outputs": [],
   "source": [
    "import warnings\n",
    "warnings.filterwarnings(\"ignore\")"
   ]
  },
  {
   "cell_type": "code",
   "execution_count": 13,
   "id": "e74ac91e",
   "metadata": {},
   "outputs": [],
   "source": [
    "def assertFloat(x): # Checks that an answer is a float\n",
    "    assert type(float(x)) == float\n",
    "\n",
    "def assertFloatList(items, N):\n",
    "    assert len(items) == N\n",
    "    assert [type(float(x)) for x in items] == [float]*N"
   ]
  },
  {
   "cell_type": "code",
   "execution_count": 14,
   "id": "1a7911bf",
   "metadata": {},
   "outputs": [],
   "source": [
    "f = gzip.open(\"young_adult_10000.json.gz\")\n",
    "dataset = []\n",
    "for l in f:\n",
    "    dataset.append(json.loads(l))"
   ]
  },
  {
   "cell_type": "code",
   "execution_count": 15,
   "id": "85100ed3",
   "metadata": {},
   "outputs": [
    {
     "data": {
      "text/plain": [
       "10000"
      ]
     },
     "execution_count": 15,
     "metadata": {},
     "output_type": "execute_result"
    }
   ],
   "source": [
    "len(dataset)"
   ]
  },
  {
   "cell_type": "code",
   "execution_count": 16,
   "id": "e716aa89",
   "metadata": {},
   "outputs": [],
   "source": [
    "answers = {} # Put your answers to each question in this dictionary"
   ]
  },
  {
   "cell_type": "code",
   "execution_count": 17,
   "id": "cb2c286a",
   "metadata": {},
   "outputs": [
    {
     "data": {
      "text/plain": [
       "{'user_id': '8842281e1d1347389f2ab93d60773d4d',\n",
       " 'book_id': '2767052',\n",
       " 'review_id': '248c011811e945eca861b5c31a549291',\n",
       " 'rating': 5,\n",
       " 'review_text': \"I cracked and finally picked this up. Very enjoyable quick read - couldn't put it down - it was like crack. \\n I'm a bit bothered by the lack of backstory of how Panem and the Hunger Games come about. It is just kind of explained away in a few paragraphs and we are left to accept this very strange world where teenagers are pitted into an arena each year to kill each other? I was expecting it because I've seen Battle Royale, but I would have appreciated knowing more of the backstory of how the world could have come into such a odd state. \\n I suppose what makes a book like this interesting is thinking about the strategy of it all. The players are going to be statistically encouraged to band together because they will last longer that way, but by definition of course any partnership will be broken, and the drama of how that unfolds is always interesting and full of friendships broken and betrayal. Each character approached the game in their own way. Some banded together in larger coalitions, some were loners initially and banded together later. And some were just loners, like Foxface. A lot depended on your survival skill: could you find food and water on your own? Self-dependence is highly valued - and of course our hero was strong there. \\n All in all, a fun read, but I feel kind of dirty for having read it.\",\n",
       " 'date_added': 'Wed Jan 13 13:38:25 -0800 2010',\n",
       " 'date_updated': 'Wed Mar 22 11:46:36 -0700 2017',\n",
       " 'read_at': 'Sun Mar 25 00:00:00 -0700 2012',\n",
       " 'started_at': 'Fri Mar 23 00:00:00 -0700 2012',\n",
       " 'n_votes': 24,\n",
       " 'n_comments': 25}"
      ]
     },
     "execution_count": 17,
     "metadata": {},
     "output_type": "execute_result"
    }
   ],
   "source": [
    "dataset[0]"
   ]
  },
  {
   "cell_type": "code",
   "execution_count": 241,
   "id": "2a260695",
   "metadata": {},
   "outputs": [],
   "source": [
    "### Question 1\n"
   ]
  },
  {
   "cell_type": "code",
   "execution_count": 242,
   "id": "fea5f8f2",
   "metadata": {},
   "outputs": [],
   "source": [
    "def feature(datum):\n",
    "    # your implementation\n",
    "    X = [dict['review_text'] for dict in datum]\n",
    "    exclamations = [i.count('!') for i in X]\n",
    "    return np.array(exclamations).reshape(-1,1)"
   ]
  },
  {
   "cell_type": "code",
   "execution_count": 68,
   "id": "8f00dea9",
   "metadata": {},
   "outputs": [],
   "source": [
    "X = feature(dataset)\n",
    "Y = [dict['rating'] for dict in dataset]"
   ]
  },
  {
   "cell_type": "code",
   "execution_count": 69,
   "id": "77af70c8",
   "metadata": {},
   "outputs": [
    {
     "name": "stdout",
     "output_type": "stream",
     "text": [
      "3.6885330408320325 0.07109019019954095 1.5231747404538287\n"
     ]
    }
   ],
   "source": [
    "reg = linear_model.LinearRegression()\n",
    "reg.fit(X,Y)\n",
    "theta0 = reg.intercept_\n",
    "theta1 = reg.coef_[0]\n",
    "pred = reg.predict(X)\n",
    "mse = np.mean((Y - pred) ** 2)\n",
    "print(theta0, theta1, mse)"
   ]
  },
  {
   "cell_type": "code",
   "execution_count": 243,
   "id": "51581a4f",
   "metadata": {},
   "outputs": [],
   "source": [
    "answers['Q1'] = [theta0, theta1, mse]"
   ]
  },
  {
   "cell_type": "code",
   "execution_count": 244,
   "id": "525fd954",
   "metadata": {},
   "outputs": [],
   "source": [
    "assertFloatList(answers['Q1'], 3) # Check the format of your answer (three floats)"
   ]
  },
  {
   "cell_type": "code",
   "execution_count": 72,
   "id": "8b84731b",
   "metadata": {},
   "outputs": [],
   "source": [
    "### Question 2"
   ]
  },
  {
   "cell_type": "code",
   "execution_count": 79,
   "id": "982ea2f5",
   "metadata": {},
   "outputs": [],
   "source": [
    "def feature(datum):\n",
    "    X = [dict['review_text'] for dict in datum]\n",
    "    exclamations = [x.count('!') for x in X]\n",
    "    lengths = [len(x) for x in X]\n",
    "\n",
    "    return np.column_stack((exclamations, lengths))"
   ]
  },
  {
   "cell_type": "code",
   "execution_count": 80,
   "id": "cda70702",
   "metadata": {},
   "outputs": [
    {
     "data": {
      "text/plain": [
       "array([[   0, 1326],\n",
       "       [   1,  224],\n",
       "       [   0,  118],\n",
       "       ...,\n",
       "       [   0,  828],\n",
       "       [   0,  379],\n",
       "       [   0,  233]])"
      ]
     },
     "execution_count": 80,
     "metadata": {},
     "output_type": "execute_result"
    }
   ],
   "source": [
    "X = feature(dataset)\n",
    "Y = [dict['rating'] for dict in dataset]"
   ]
  },
  {
   "cell_type": "code",
   "execution_count": 87,
   "id": "58b4f18a",
   "metadata": {},
   "outputs": [
    {
     "name": "stdout",
     "output_type": "stream",
     "text": [
      "3.717512807797202 0.07527591733232472 -4.121506529487957e-05 1.521402924616583\n"
     ]
    }
   ],
   "source": [
    "reg = linear_model.LinearRegression()\n",
    "reg.fit(X, Y)\n",
    "theta0 = reg.intercept_\n",
    "theta1 = reg.coef_[0]\n",
    "theta2 = reg.coef_[1]\n",
    "pred = reg.predict(X)\n",
    "mse = np.mean((Y - pred) ** 2)\n",
    "\n",
    "print(theta0, theta1, theta2, mse)"
   ]
  },
  {
   "cell_type": "code",
   "execution_count": 88,
   "id": "f099afd8",
   "metadata": {},
   "outputs": [],
   "source": [
    "answers['Q2'] = [theta0, theta1, theta2, mse]"
   ]
  },
  {
   "cell_type": "code",
   "execution_count": 89,
   "id": "31e2f9e8",
   "metadata": {},
   "outputs": [],
   "source": [
    "assertFloatList(answers['Q2'], 4)"
   ]
  },
  {
   "cell_type": "code",
   "execution_count": null,
   "id": "1147c4f6",
   "metadata": {},
   "outputs": [],
   "source": [
    "### Question 3"
   ]
  },
  {
   "cell_type": "code",
   "execution_count": 138,
   "id": "78ef0f1e",
   "metadata": {},
   "outputs": [],
   "source": [
    "def feature(datum, deg):\n",
    "    # feature for a specific polynomial degree\n",
    "    X = [dict['review_text'] for dict in datum]\n",
    "    exclamations = np.array([x.count('!') for x in X]).reshape(-1, 1)\n",
    "\n",
    "    if deg == 1:\n",
    "        return exclamations\n",
    "\n",
    "    all_polynomials = exclamations\n",
    "    for i in range(2, deg + 1):\n",
    "        all_polynomials = np.column_stack((all_polynomials, exclamations ** i))\n",
    "    \n",
    "    return all_polynomials"
   ]
  },
  {
   "cell_type": "code",
   "execution_count": 144,
   "id": "0400398b",
   "metadata": {},
   "outputs": [
    {
     "data": {
      "text/plain": [
       "[np.float64(1.5231747404538287),\n",
       " np.float64(1.5046686106250917),\n",
       " np.float64(1.4966845515179228),\n",
       " np.float64(1.490447730223069),\n",
       " np.float64(1.4896106953961648)]"
      ]
     },
     "execution_count": 144,
     "metadata": {},
     "output_type": "execute_result"
    }
   ],
   "source": [
    "mses = []\n",
    "Y = [dict['rating'] for dict in dataset]\n",
    "\n",
    "for i in range(1, 6):\n",
    "    X = feature(dataset, i)\n",
    "    reg = linear_model.LinearRegression()\n",
    "    reg.fit(X, Y)\n",
    "    preds = reg.predict(X)\n",
    "    mse = np.mean((Y - preds) ** 2)\n",
    "    mses.append(mse)\n",
    "\n",
    "mses"
   ]
  },
  {
   "cell_type": "code",
   "execution_count": 145,
   "id": "559faac4",
   "metadata": {},
   "outputs": [],
   "source": [
    "answers['Q3'] = mses"
   ]
  },
  {
   "cell_type": "code",
   "execution_count": 146,
   "id": "bbb5da71",
   "metadata": {},
   "outputs": [],
   "source": [
    "assertFloatList(answers['Q3'], 5)# List of length 5"
   ]
  },
  {
   "cell_type": "code",
   "execution_count": null,
   "id": "dcbb8263",
   "metadata": {},
   "outputs": [],
   "source": [
    "### Question 4"
   ]
  },
  {
   "cell_type": "code",
   "execution_count": 157,
   "id": "e91bc048",
   "metadata": {},
   "outputs": [],
   "source": [
    "from sklearn.model_selection import train_test_split\n",
    "\n",
    "mses = []\n",
    "Y = [dict['rating'] for dict in dataset]\n",
    "\n",
    "for i in range(1, 6):\n",
    "    X = feature(dataset, i)\n",
    "\n",
    "    # train test split\n",
    "    X_train, X_test, y_train, y_test = train_test_split(\n",
    "    X, Y, test_size=0.50, random_state=42)\n",
    "\n",
    "    # Linear regression\n",
    "    reg = linear_model.LinearRegression()\n",
    "    reg.fit(X_train, y_train)\n",
    "    preds = reg.predict(X_test)\n",
    "    mse = np.mean((y_test - preds) ** 2)\n",
    "    mses.append(mse)"
   ]
  },
  {
   "cell_type": "code",
   "execution_count": 159,
   "id": "fdd505ff",
   "metadata": {},
   "outputs": [],
   "source": [
    "answers['Q4'] = mses"
   ]
  },
  {
   "cell_type": "code",
   "execution_count": 160,
   "id": "d2954061",
   "metadata": {},
   "outputs": [],
   "source": [
    "assertFloatList(answers['Q4'], 5)"
   ]
  },
  {
   "cell_type": "code",
   "execution_count": null,
   "id": "2fa286a5",
   "metadata": {},
   "outputs": [],
   "source": [
    "### Question 5"
   ]
  },
  {
   "cell_type": "code",
   "execution_count": 162,
   "id": "81dcc36d",
   "metadata": {},
   "outputs": [],
   "source": [
    "preds = np.mean(y_train)\n",
    "mae = np.mean(np.abs(y_test - preds))"
   ]
  },
  {
   "cell_type": "code",
   "execution_count": 163,
   "id": "b3a2e9b9",
   "metadata": {},
   "outputs": [],
   "source": [
    "answers['Q5'] = mae"
   ]
  },
  {
   "cell_type": "code",
   "execution_count": 164,
   "id": "d71a47ed",
   "metadata": {},
   "outputs": [],
   "source": [
    "assertFloat(answers['Q5'])"
   ]
  },
  {
   "cell_type": "code",
   "execution_count": 165,
   "id": "cf84f30c",
   "metadata": {},
   "outputs": [],
   "source": [
    "### Question 6"
   ]
  },
  {
   "cell_type": "code",
   "execution_count": 166,
   "id": "19b5b795",
   "metadata": {},
   "outputs": [],
   "source": [
    "f = open(\"beer_50000.json\")\n",
    "dataset = []\n",
    "for l in f:\n",
    "    if 'user/gender' in l:\n",
    "        dataset.append(eval(l))"
   ]
  },
  {
   "cell_type": "code",
   "execution_count": 174,
   "id": "299d4fee",
   "metadata": {},
   "outputs": [
    {
     "data": {
      "text/plain": [
       "{'review/appearance': 4.0,\n",
       " 'beer/style': 'American Double / Imperial IPA',\n",
       " 'review/palate': 4.0,\n",
       " 'review/taste': 4.5,\n",
       " 'beer/name': 'Cauldron DIPA',\n",
       " 'review/timeUnix': 1293735206,\n",
       " 'user/gender': 'Male',\n",
       " 'user/birthdayRaw': 'Jun 16, 1901',\n",
       " 'beer/ABV': 7.7,\n",
       " 'beer/beerId': '64883',\n",
       " 'user/birthdayUnix': -2163081600,\n",
       " 'beer/brewerId': '1075',\n",
       " 'review/timeStruct': {'isdst': 0,\n",
       "  'mday': 30,\n",
       "  'hour': 18,\n",
       "  'min': 53,\n",
       "  'sec': 26,\n",
       "  'mon': 12,\n",
       "  'year': 2010,\n",
       "  'yday': 364,\n",
       "  'wday': 3},\n",
       " 'user/ageInSeconds': 3581417047,\n",
       " 'review/overall': 4.0,\n",
       " 'review/text': \"According to the website, the style for the Caldera Cauldron changes every year. The current release is a DIPA, which frankly is the only cauldron I'm familiar with (it was an IPA/DIPA the last time I ordered a cauldron at the horsebrass several years back). In any event... at the Horse Brass yesterday.\\t\\tThe beer pours an orange copper color with good head retention and lacing. The nose is all hoppy IPA goodness, showcasing a huge aroma of dry citrus, pine and sandlewood. The flavor profile replicates the nose pretty closely in this West Coast all the way DIPA. This DIPA is not for the faint of heart and is a bit much even for a hophead like myslf. The finish is quite dry and hoppy, and there's barely enough sweet malt to balance and hold up the avalanche of hoppy bitterness in this beer. Mouthfeel is actually fairly light, with a long, persistentely bitter finish. Drinkability is good, with the alcohol barely noticeable in this well crafted beer. Still, this beer is so hugely hoppy/bitter, it's really hard for me to imagine ordering more than a single glass. Regardless, this is a very impressive beer from the folks at Caldera.\",\n",
       " 'user/profileName': 'johnmichaelsen',\n",
       " 'review/aroma': 4.5}"
      ]
     },
     "execution_count": 174,
     "metadata": {},
     "output_type": "execute_result"
    }
   ],
   "source": [
    "len(dataset)\n",
    "dataset[0]"
   ]
  },
  {
   "cell_type": "code",
   "execution_count": 175,
   "id": "60563ac8",
   "metadata": {},
   "outputs": [],
   "source": [
    "def feature(datum):\n",
    "    # your implementation\n",
    "    X = [dict['review/text'] for dict in datum]\n",
    "    exclamations = [i.count('!') for i in X]\n",
    "    return np.array(exclamations).reshape(-1,1)"
   ]
  },
  {
   "cell_type": "code",
   "execution_count": 193,
   "id": "cf95bec0",
   "metadata": {},
   "outputs": [],
   "source": [
    "X = feature(dataset)\n",
    "gender = [dict['user/gender'] for dict in dataset]\n",
    "\n",
    "# convert to numerical\n",
    "y = [1 if line == 'Female' else 0 for line in y]"
   ]
  },
  {
   "cell_type": "code",
   "execution_count": 207,
   "id": "e0ce9c0b",
   "metadata": {},
   "outputs": [
    {
     "name": "stdout",
     "output_type": "stream",
     "text": [
      "20095 0 308 0 0.5\n"
     ]
    }
   ],
   "source": [
    "from sklearn.metrics import confusion_matrix\n",
    "\n",
    "reg = linear_model.LogisticRegression()\n",
    "reg.fit(X, y)\n",
    "preds = reg.predict(X)\n",
    "\n",
    "\n",
    "TN, FP, FN, TP = confusion_matrix(y, preds).ravel()\n",
    "BER = 1/2 * ( (FN/(TP+FN)) + (FP/(TN+FP)) )\n",
    "print(TN, FP, FN, TP, BER)\n"
   ]
  },
  {
   "cell_type": "code",
   "execution_count": 200,
   "id": "0c35d20a",
   "metadata": {},
   "outputs": [],
   "source": [
    "answers['Q6'] = [TP, TN, FP, FN, BER]"
   ]
  },
  {
   "cell_type": "code",
   "execution_count": 201,
   "id": "9b18991a",
   "metadata": {},
   "outputs": [],
   "source": [
    "assertFloatList(answers['Q6'], 5)"
   ]
  },
  {
   "cell_type": "code",
   "execution_count": 202,
   "id": "f066f3d5",
   "metadata": {},
   "outputs": [],
   "source": [
    "### Question 7"
   ]
  },
  {
   "cell_type": "code",
   "execution_count": 208,
   "id": "d24c241f",
   "metadata": {},
   "outputs": [
    {
     "name": "stdout",
     "output_type": "stream",
     "text": [
      "16332 3763 220 88 0.4507731134255145\n"
     ]
    }
   ],
   "source": [
    "reg = linear_model.LogisticRegression(class_weight='balanced')\n",
    "reg.fit(X, y)\n",
    "preds = reg.predict(X)\n",
    "\n",
    "\n",
    "TN, FP, FN, TP = confusion_matrix(y, preds).ravel()\n",
    "BER = 1/2 * ( (FN/(TP+FN)) + (FP/(TN+FP)) )\n",
    "print(TN, FP, FN, TP, BER)"
   ]
  },
  {
   "cell_type": "code",
   "execution_count": 209,
   "id": "0622704c",
   "metadata": {},
   "outputs": [],
   "source": [
    "answers[\"Q7\"] = [TP, TN, FP, FN, BER]"
   ]
  },
  {
   "cell_type": "code",
   "execution_count": 210,
   "id": "efb03c92",
   "metadata": {},
   "outputs": [],
   "source": [
    "assertFloatList(answers['Q7'], 5)"
   ]
  },
  {
   "cell_type": "code",
   "execution_count": null,
   "id": "0e622c2b",
   "metadata": {},
   "outputs": [],
   "source": [
    "### Question 8"
   ]
  },
  {
   "cell_type": "code",
   "execution_count": 235,
   "id": "19a80b1f",
   "metadata": {},
   "outputs": [],
   "source": [
    "probabilities = reg.predict_proba(X)[:, 1]\n",
    "sorted_indices = np.argsort(-probabilities)\n",
    "K = [1, 10, 100, 1000, 10000]\n",
    "precisionList = []"
   ]
  },
  {
   "cell_type": "code",
   "execution_count": 236,
   "id": "24b5c0f3",
   "metadata": {},
   "outputs": [],
   "source": [
    "from sklearn.metrics import precision_score\n",
    "\n",
    "for k in K:\n",
    "    k_num_indices = sorted_indices[:k]\n",
    "    y_k = np.array(y)[k_num_indices]\n",
    "    preds_k = np.array(preds)[k_num_indices]\n",
    "    precisionList.append(precision_score(y_k, preds_k))"
   ]
  },
  {
   "cell_type": "code",
   "execution_count": 237,
   "id": "764513e1",
   "metadata": {},
   "outputs": [],
   "source": [
    "answers['Q8'] = precisionList"
   ]
  },
  {
   "cell_type": "code",
   "execution_count": 238,
   "id": "b0d7d87a",
   "metadata": {},
   "outputs": [],
   "source": [
    "assertFloatList(answers['Q8'], 5) #List of five floats"
   ]
  },
  {
   "cell_type": "code",
   "execution_count": 245,
   "id": "d557ab88",
   "metadata": {},
   "outputs": [],
   "source": [
    "f = open(\"answers_hw1.txt\", 'w') # Write your answers to a file\n",
    "f.write(str(answers) + '\\n')\n",
    "f.close()"
   ]
  },
  {
   "cell_type": "code",
   "execution_count": null,
   "id": "63b457fc",
   "metadata": {},
   "outputs": [],
   "source": []
  }
 ],
 "metadata": {
  "kernelspec": {
   "display_name": "Python 3 (ipykernel)",
   "language": "python",
   "name": "python3"
  },
  "language_info": {
   "codemirror_mode": {
    "name": "ipython",
    "version": 3
   },
   "file_extension": ".py",
   "mimetype": "text/x-python",
   "name": "python",
   "nbconvert_exporter": "python",
   "pygments_lexer": "ipython3",
   "version": "3.11.10"
  }
 },
 "nbformat": 4,
 "nbformat_minor": 5
}
